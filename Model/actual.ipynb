{
 "cells": [
  {
   "cell_type": "code",
   "execution_count": 12,
   "metadata": {},
   "outputs": [],
   "source": [
    "import tensorflow as tf\n",
    "import tensorflow.keras as tfk\n",
    "import numpy as np\n",
    "import pandas as pd\n",
    "from sklearn.model_selection import train_test_split\n",
    "from sklearn.preprocessing import MinMaxScaler\n",
    "import matplotlib.pyplot as plt\n",
    "from sklearn import metrics\n",
    "from sklearn.linear_model import LogisticRegression\n",
    "from WeightedBinaryCrossentropy import WeightedBinaryCrossentropy"
   ]
  },
  {
   "cell_type": "code",
   "execution_count": 13,
   "metadata": {},
   "outputs": [],
   "source": [
    "model = tfk.Sequential()\n",
    "model.add(tfk.Input(shape = (4,4)))\n",
    "model.add(tfk.layers.Bidirectional(tfk.layers.LSTM(128, return_sequences=True)))\n",
    "model.add(tfk.layers.ReLU())\n",
    "model.add(tfk.layers.Dropout(0.3))\n",
    "model.add(tfk.layers.Bidirectional(tfk.layers.LSTM(256, return_sequences=True)))\n",
    "model.add(tfk.layers.ReLU())\n",
    "model.add(tfk.layers.Dropout(0.3))\n",
    "model.add(tfk.layers.Bidirectional(tfk.layers.LSTM(256, return_sequences=True)))\n",
    "model.add(tfk.layers.ReLU())\n",
    "model.add(tfk.layers.Dropout(0.3))\n",
    "model.add(tfk.layers.LSTM(128, return_sequences=False))\n",
    "model.add(tfk.layers.ReLU())\n",
    "model.add(tfk.layers.Dense(1))"
   ]
  },
  {
   "cell_type": "code",
   "execution_count": 14,
   "metadata": {},
   "outputs": [
    {
     "data": {
      "text/plain": [
       "<tensorflow.python.checkpoint.checkpoint.CheckpointLoadStatus at 0x22eac868990>"
      ]
     },
     "execution_count": 14,
     "metadata": {},
     "output_type": "execute_result"
    }
   ],
   "source": [
    "model.load_weights(r'..\\Pretrained Weights\\po_hour')"
   ]
  },
  {
   "cell_type": "code",
   "execution_count": 15,
   "metadata": {},
   "outputs": [
    {
     "name": "stdout",
     "output_type": "stream",
     "text": [
      "<class 'pandas.core.frame.DataFrame'>\n",
      "RangeIndex: 5 entries, 0 to 4\n",
      "Data columns (total 5 columns):\n",
      " #   Column         Non-Null Count  Dtype         \n",
      "---  ------         --------------  -----         \n",
      " 0   timestamp      5 non-null      datetime64[ns]\n",
      " 1   temperature    5 non-null      float64       \n",
      " 2   humidity       5 non-null      int64         \n",
      " 3   wind_speed     5 non-null      float64       \n",
      " 4   precipitation  5 non-null      float64       \n",
      "dtypes: datetime64[ns](1), float64(3), int64(1)\n",
      "memory usage: 328.0 bytes\n"
     ]
    }
   ],
   "source": [
    "data = pd.read_csv(r'..\\DataRetrieval\\weather_data_new.csv')\n",
    "data.drop(columns=['location'], inplace=True)\n",
    "data['timestamp'] = pd.to_datetime(data['timestamp'])\n",
    "data.set_index('timestamp')\n",
    "data.info()"
   ]
  },
  {
   "cell_type": "code",
   "execution_count": 16,
   "metadata": {},
   "outputs": [],
   "source": [
    "from fun import prepro\n",
    "X = prepro(data)"
   ]
  },
  {
   "cell_type": "code",
   "execution_count": 17,
   "metadata": {},
   "outputs": [],
   "source": [
    "gen = tfk.preprocessing.sequence.TimeseriesGenerator(np.asarray(X),np.asarray(X),length=4,sampling_rate=1,stride=1,batch_size=32)"
   ]
  },
  {
   "cell_type": "code",
   "execution_count": 18,
   "metadata": {},
   "outputs": [
    {
     "name": "stdout",
     "output_type": "stream",
     "text": [
      "1/1 [==============================] - 3s 3s/step\n"
     ]
    }
   ],
   "source": [
    "yhat = model.predict(gen)"
   ]
  },
  {
   "cell_type": "code",
   "execution_count": 19,
   "metadata": {},
   "outputs": [
    {
     "data": {
      "text/plain": [
       "[0]"
      ]
     },
     "execution_count": 19,
     "metadata": {},
     "output_type": "execute_result"
    }
   ],
   "source": [
    "yhat = [1 if x > 0.5 else 0 for x in yhat]\n",
    "yhat"
   ]
  },
  {
   "cell_type": "code",
   "execution_count": 20,
   "metadata": {},
   "outputs": [
    {
     "name": "stdout",
     "output_type": "stream",
     "text": [
      "NO DETECTABLE POWER OUTAGE IN THE COMING HOUR\n"
     ]
    }
   ],
   "source": [
    "if yhat[0] == 0:\n",
    "    print('NO DETECTABLE POWER OUTAGE IN THE COMING HOUR')\n",
    "else:\n",
    "    print('POSSIBILITY OF POWER OUTAGE IN THE COMING HOUR')"
   ]
  }
 ],
 "metadata": {
  "kernelspec": {
   "display_name": "Python 3",
   "language": "python",
   "name": "python3"
  },
  "language_info": {
   "codemirror_mode": {
    "name": "ipython",
    "version": 3
   },
   "file_extension": ".py",
   "mimetype": "text/x-python",
   "name": "python",
   "nbconvert_exporter": "python",
   "pygments_lexer": "ipython3",
   "version": "3.11.0"
  }
 },
 "nbformat": 4,
 "nbformat_minor": 2
}
