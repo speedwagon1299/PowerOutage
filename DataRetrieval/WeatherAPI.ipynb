{
 "cells": [
  {
   "cell_type": "code",
   "execution_count": 4,
   "metadata": {},
   "outputs": [
    {
     "name": "stdout",
     "output_type": "stream",
     "text": [
      "https://api.openweathermap.org/data/2.5/weather?q=mangalore&appid=2a8be53043c3523cb8f9e00f4843aa8c\n",
      "Mangalore 74.794 13.35\n"
     ]
    }
   ],
   "source": [
    "import requests\n",
    "api_key = '2a8be53043c3523cb8f9e00f4843aa8c'\n",
    "city_name = \"mangalore\" #you can ask for user input instead\n",
    "\n",
    "#Let's get the city's coordinates (lat and lon)\n",
    "url = f'https://api.openweathermap.org/data/2.5/weather?q={city_name}&appid={api_key}'\n",
    "print(url)\n",
    "\n",
    "#Let's parse the Json\n",
    "req = requests.get(url)\n",
    "data = req.json()\n",
    "\n",
    "#Let's get the name, the longitude and latitude\n",
    "name = data['name']\n",
    "\n",
    "lon = 74.794\n",
    "lat = 13.35\n",
    "# lon = data['coord']['lon']\n",
    "# lat = data['coord']['lat']\n",
    "\n",
    "\n",
    "print(name, lon, lat)"
   ]
  },
  {
   "cell_type": "code",
   "execution_count": 5,
   "metadata": {},
   "outputs": [
    {
     "name": "stdout",
     "output_type": "stream",
     "text": [
      "https://pro.openweathermap.org/data/2.5/forecast/hourly?lat=13.354&lon=74.794&appid=2a8be53043c3523cb8f9e00f4843aa8c\n",
      "25.09\n",
      "95\n",
      "14.8\n"
     ]
    }
   ],
   "source": [
    "import json\n",
    "import csv\n",
    "\n",
    "url2 = f'https://pro.openweathermap.org/data/2.5/forecast/hourly?lat={lat}4&lon={lon}&appid={api_key}'\n",
    "print(url2)\n",
    "\n",
    "#Let's now parse the JSON\n",
    "req2 = requests.get(url2)\n",
    "data2 = req2.json()\n",
    "temp = round(((data2['list'][0]['main']['temp_min'] + data2['list'][0]['main']['temp_max'])/2) - 273,2)\n",
    "print(temp)\n",
    "humid = data2['list'][0]['main']['humidity']\n",
    "print(humid)\n",
    "wind = round(data2['list'][0]['wind']['speed']*10,2)\n",
    "print(wind)\n",
    "\n"
   ]
  },
  {
   "cell_type": "code",
   "execution_count": 6,
   "metadata": {},
   "outputs": [],
   "source": [
    "extracted_data = []\n",
    "count = 0\n",
    "for item in data2['list']:\n",
    "    count = count+1\n",
    "    dt = item['dt_txt']\n",
    "    temp_min = item['main']['temp_min']\n",
    "    temp_max = item['main']['temp_max']\n",
    "    humidity = item['main']['humidity']\n",
    "    precipitation = item.get('rain', {}).get('1h', 0)\n",
    "    wind_speed = item['wind']['speed']\n",
    "\n",
    "    avg_temp = (temp_min + temp_max)/2\n",
    "    extracted_data.append({\n",
    "        'timestamp': dt,\n",
    "        'temperature': round(avg_temp-273,2),\n",
    "        'humidity': round(humidity,2),\n",
    "        'precipitation': round(precipitation,2),\n",
    "        'wind_speed': round(wind_speed,2),\n",
    "        'location' : 'Mangalore'\n",
    "    })\n",
    "    if count == 5: break\n",
    "\n",
    "# Write the extracted data to a CSV file\n",
    "csv_filename = 'weather_data_new.csv'\n",
    "csv_headers = ['timestamp', 'location', 'temperature', 'humidity', 'wind_speed', 'precipitation']\n",
    "\n",
    "with open(csv_filename, mode='w', newline='') as csv_file:\n",
    "    writer = csv.DictWriter(csv_file, fieldnames=csv_headers)\n",
    "    writer.writeheader()\n",
    "    writer.writerows(extracted_data)"
   ]
  },
  {
   "cell_type": "code",
   "execution_count": null,
   "metadata": {},
   "outputs": [],
   "source": []
  },
  {
   "cell_type": "code",
   "execution_count": null,
   "metadata": {},
   "outputs": [],
   "source": []
  }
 ],
 "metadata": {
  "kernelspec": {
   "display_name": "Python 3",
   "language": "python",
   "name": "python3"
  },
  "language_info": {
   "codemirror_mode": {
    "name": "ipython",
    "version": 3
   },
   "file_extension": ".py",
   "mimetype": "text/x-python",
   "name": "python",
   "nbconvert_exporter": "python",
   "pygments_lexer": "ipython3",
   "version": "3.11.0"
  }
 },
 "nbformat": 4,
 "nbformat_minor": 2
}
